{
 "cells": [
  {
   "cell_type": "code",
   "execution_count": 26,
   "metadata": {
    "scrolled": true
   },
   "outputs": [
    {
     "name": "stdout",
     "output_type": "stream",
     "text": [
      "<function accuracy_score at 0x7f21d1fe6400>\n",
      "0.8054054054054054\n",
      "accuracy_score 0.8054054054054054\n"
     ]
    }
   ],
   "source": [
    "import pandas as pd \n",
    "import numpy as np                     # For mathematical calculations \n",
    "import seaborn as sns                  # For data visualization \n",
    "import matplotlib.pyplot as plt  \n",
    "from sklearn import linear_model,datasets\n",
    "from sklearn.metrics import accuracy_score\n",
    "\n",
    "# For plotting graphs \n",
    "%matplotlib inline \n",
    "import warnings\n",
    "from sklearn.model_selection import train_test_split\n",
    "train=pd.read_csv(\"~/Documents/loan prediction/train_u6lujuX_CVtuZ9i.csv\")\n",
    "test=pd.read_csv(\"~/Documents/loan prediction/test_Y3wMUE5_7gLdaTN.csv\")\n",
    "train_original=train.copy() # creating copy of train original\n",
    "\n",
    "test_original=test.copy()   # creating copy of test original\n",
    "\n",
    "train['Gender'].fillna(train['Gender'].mode()[0], inplace=True) \n",
    "train['Married'].fillna(train['Married'].mode()[0], inplace=True) \n",
    "train['Dependents'].fillna(train['Dependents'].mode()[0], inplace=True) \n",
    "train['Self_Employed'].fillna(train['Self_Employed'].mode()[0], inplace=True) \n",
    "train['Credit_History'].fillna(train['Credit_History'].mode()[0], inplace=True)\n",
    "train['Loan_Amount_Term'].value_counts()\n",
    "train['Loan_Amount_Term'].fillna(train['Loan_Amount_Term'].mode()[0], inplace=True)\n",
    "train['LoanAmount'].fillna(train['LoanAmount'].median(), inplace=True)\n",
    "test['Gender'].fillna(train['Gender'].mode()[0], inplace=True) \n",
    "test['Dependents'].fillna(train['Dependents'].mode()[0], inplace=True) \n",
    "test['Self_Employed'].fillna(train['Self_Employed'].mode()[0], inplace=True) \n",
    "test['Credit_History'].fillna(train['Credit_History'].mode()[0], inplace=True) \n",
    "test['Loan_Amount_Term'].fillna(train['Loan_Amount_Term'].mode()[0], inplace=True)\n",
    "test['LoanAmount'].fillna(train['LoanAmount'].median(), inplace=True)\n",
    "train['LoanAmount_log'] = np.log(train['LoanAmount']) \n",
    "test['LoanAmount_log'] = np.log(test['LoanAmount'])\n",
    "train=train.drop('Loan_ID',axis=1) \n",
    "test=test.drop('Loan_ID',axis=1)\n",
    "\n",
    "#train=pd.get_dummies(train) \n",
    "#test=pd.get_dummies(test)\n",
    "X = train.drop('Loan_Status',1) \n",
    "y = train.Loan_Status\n",
    "X=pd.get_dummies(X) \n",
    "train=pd.get_dummies(train) \n",
    "test=pd.get_dummies(test)\n",
    "x_train, x_cv, y_train, y_cv = train_test_split(X,y, test_size =0.3)\n",
    "from sklearn.linear_model import LogisticRegression \n",
    "from sklearn.metrics import accuracy_score\n",
    "\n",
    "# by Logistic Regression\n",
    "model1= LogisticRegression() \n",
    "model.fit(x_train, y_train)\n",
    "pred_cv=model.predict(x_cv)\n",
    "accuracy_score(y_cv,pred_cv)\n",
    "print('accuracy_score for Logistic tree',accuracy_score)\n",
    "\n",
    "# By Decision Tree\n",
    "from sklearn.tree import DecisionTreeClassifier\n",
    "model2=DecisionTreeClassifier(random_state=1)  \n",
    "model2.fit(x_train, y_train)\n",
    "pred_cv2=model.predict(x_cv)\n",
    "model.fit(x_train, y_train)\n",
    "pred_cv=model.predict(x_cv)\n",
    "accuracy_score(y_cv,pred_cv)\n",
    "accuracy_score=accuracy_score(y_cv,pred_cv2)\n",
    "print('accuracy_score for Decision tree',accuracy_score)\n",
    "\n",
    "# RandomForest\n",
    "from sklearn.ensemble import RandomForestClassifier\n",
    "model3=RandomForestClassifier(random_state=1, max_depth=10)     \n",
    "model.fit(x_train, y_train)     \n",
    "pred_test3=model.predict(x_cv)     \n",
    "score=accuracy_score(y_cv,pred_test3)     \n",
    "print('accuracy_score for Random Forest',score)  \n",
    "\n"
   ]
  },
  {
   "cell_type": "code",
   "execution_count": null,
   "metadata": {},
   "outputs": [],
   "source": []
  }
 ],
 "metadata": {
  "kernelspec": {
   "display_name": "Python 3",
   "language": "python",
   "name": "python3"
  },
  "language_info": {
   "codemirror_mode": {
    "name": "ipython",
    "version": 3
   },
   "file_extension": ".py",
   "mimetype": "text/x-python",
   "name": "python",
   "nbconvert_exporter": "python",
   "pygments_lexer": "ipython3",
   "version": "3.7.3"
  }
 },
 "nbformat": 4,
 "nbformat_minor": 2
}
